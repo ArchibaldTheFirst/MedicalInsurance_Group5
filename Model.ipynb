{
 "cells": [
  {
   "cell_type": "markdown",
   "metadata": {},
   "source": [
    "# Model Training"
   ]
  },
  {
   "cell_type": "markdown",
   "metadata": {},
   "source": [
    "## Imports"
   ]
  },
  {
   "cell_type": "code",
   "execution_count": 7,
   "metadata": {},
   "outputs": [],
   "source": [
    "import pandas as pd\n",
    "from sklearn.model_selection import train_test_split, cross_val_score, cross_validate\n",
    "from sklearn.compose import ColumnTransformer\n",
    "from sklearn.preprocessing import OneHotEncoder, StandardScaler\n",
    "from sklearn.ensemble import RandomForestRegressor\n",
    "from sklearn.linear_model import LinearRegression\n",
    "from sklearn.pipeline import Pipeline\n",
    "from sklearn.metrics import make_scorer, mean_squared_error, mean_absolute_error, r2_score\n",
    "import numpy as np\n"
   ]
  },
  {
   "cell_type": "markdown",
   "metadata": {},
   "source": [
    "## Preprocessing"
   ]
  },
  {
   "cell_type": "code",
   "execution_count": 9,
   "metadata": {},
   "outputs": [],
   "source": [
    "# Load the data\n",
    "yulu_data_set = pd.read_csv('yulu_bike_sharing_dataset.csv')\n",
    "\n",
    "# Split the 'datetime' column into 'date' and 'time' columns\n",
    "yulu_data_set[['date', 'time']] = yulu_data_set['datetime'].str.split(' ', expand=True)\n",
    "yulu_data_set = yulu_data_set.drop(columns=['datetime'])\n",
    "\n",
    "# Specify the names of categorical and numerical columns\n",
    "categorical_columns = ['season', 'holiday', 'workingday', 'weather']  # Update with your actual categorical columns\n",
    "numerical_columns = ['temp', 'atemp', 'humidity', 'windspeed']  # Update with your actual numerical columns\n",
    "target_column = 'count'  # Update if your target variable is named differently\n",
    "\n",
    "# Separating the target variable\n",
    "X = yulu_data_set.drop(columns=[target_column])\n",
    "y = yulu_data_set[target_column]\n",
    "\n",
    "# Splitting data into training and testing sets\n",
    "X_train, X_test, y_train, y_test = train_test_split(X, y, test_size=0.2, random_state=42)\n",
    "\n",
    "# Creating a column transformer for handling both numerical and categorical variables\n",
    "preprocessor = ColumnTransformer(\n",
    "    transformers=[\n",
    "        ('num', StandardScaler(), numerical_columns),\n",
    "        ('cat', OneHotEncoder(handle_unknown='ignore'), categorical_columns)\n",
    "    ])\n"
   ]
  },
  {
   "cell_type": "markdown",
   "metadata": {},
   "source": [
    "## Linear Regression"
   ]
  },
  {
   "cell_type": "code",
   "execution_count": 10,
   "metadata": {},
   "outputs": [
    {
     "name": "stdout",
     "output_type": "stream",
     "text": [
      "Cross-validated scores:\n",
      "test_MSE: -27796.90202885234\n",
      "train_MSE: -23356.980583099423\n",
      "test_MAE: -124.64762225454452\n",
      "train_MAE: -114.3415240643287\n",
      "test_R2: -0.05086788194556213\n",
      "train_R2: 0.2823972654796753\n",
      "Test MSE: 23517.898148129236\n",
      "Test MAE: 114.0271227430039\n",
      "Test R-squared: 0.28748617429098655\n"
     ]
    }
   ],
   "source": [
    "# Creating a pipeline with preprocessing and a simple linear regression model\n",
    "model = Pipeline(steps=[\n",
    "    ('preprocessor', preprocessor),\n",
    "    ('regressor', LinearRegression())\n",
    "])\n",
    "\n",
    "# Define scoring metrics for cross-validation\n",
    "scoring_metrics = {\n",
    "    'MSE': make_scorer(mean_squared_error, greater_is_better=False),\n",
    "    'MAE': make_scorer(mean_absolute_error, greater_is_better=False),\n",
    "    'R2': 'r2'\n",
    "}\n",
    "\n",
    "# Apply cross-validation\n",
    "cv_results = cross_validate(model, X, y, cv=5, scoring=scoring_metrics, return_train_score=True)\n",
    "\n",
    "print(\"Cross-validated scores:\")\n",
    "for key, scores in cv_results.items():\n",
    "    if \"time\" not in key:\n",
    "        print(f\"{key}: {np.mean(scores)}\")\n",
    "\n",
    "# Fit the model on training data\n",
    "model.fit(X_train, y_train)\n",
    "\n",
    "# Predictions and model evaluation on the test set\n",
    "y_pred = model.predict(X_test)\n",
    "mse = mean_squared_error(y_test, y_pred)\n",
    "mae = mean_absolute_error(y_test, y_pred)\n",
    "r2 = r2_score(y_test, y_pred)\n",
    "\n",
    "print(\"Test MSE:\", mse)\n",
    "print(\"Test MAE:\", mae)\n",
    "print(\"Test R-squared:\", r2)"
   ]
  },
  {
   "cell_type": "markdown",
   "metadata": {},
   "source": [
    "## Random Forest Regressor"
   ]
  },
  {
   "cell_type": "code",
   "execution_count": 11,
   "metadata": {},
   "outputs": [
    {
     "name": "stdout",
     "output_type": "stream",
     "text": [
      "Cross-validated MSE: 32075.29105559666\n",
      "Mean Squared Error (MSE): 22898.59570693373\n",
      "Mean Absolute Error (MAE): 107.4550599161832\n",
      "R-squared: 0.3062489714111978\n"
     ]
    }
   ],
   "source": [
    "# Creating a pipeline with preprocessing and a RandomForest regressor\n",
    "model = Pipeline(steps=[\n",
    "    ('preprocessor', preprocessor),\n",
    "    ('regressor', RandomForestRegressor(n_estimators=100, random_state=42))\n",
    "])\n",
    "\n",
    "# Cross-validation to evaluate model\n",
    "scores = cross_val_score(model, X, y, cv=5, scoring='neg_mean_squared_error')\n",
    "print(\"Cross-validated MSE:\", -np.mean(scores))\n",
    "\n",
    "# Fit the model on training data\n",
    "model.fit(X_train, y_train)\n",
    "\n",
    "# Predictions\n",
    "y_pred = model.predict(X_test)\n",
    "\n",
    "# Metrics\n",
    "mse = mean_squared_error(y_test, y_pred)\n",
    "mae = mean_absolute_error(y_test, y_pred)\n",
    "r2 = r2_score(y_test, y_pred)\n",
    "\n",
    "print(\"Mean Squared Error (MSE):\", mse)\n",
    "print(\"Mean Absolute Error (MAE):\", mae)\n",
    "print(\"R-squared:\", r2)"
   ]
  }
 ],
 "metadata": {
  "kernelspec": {
   "display_name": "Python 3",
   "language": "python",
   "name": "python3"
  },
  "language_info": {
   "codemirror_mode": {
    "name": "ipython",
    "version": 3
   },
   "file_extension": ".py",
   "mimetype": "text/x-python",
   "name": "python",
   "nbconvert_exporter": "python",
   "pygments_lexer": "ipython3",
   "version": "3.11.5"
  }
 },
 "nbformat": 4,
 "nbformat_minor": 2
}
